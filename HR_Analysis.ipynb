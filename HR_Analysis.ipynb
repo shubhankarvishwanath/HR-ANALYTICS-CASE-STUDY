{
 "cells": [
  {
   "cell_type": "code",
   "execution_count": null,
   "metadata": {},
   "outputs": [],
   "source": [
    "import pandas as pd\n",
    "import numpy as np"
   ]
  },
  {
   "cell_type": "code",
   "execution_count": null,
   "metadata": {},
   "outputs": [],
   "source": [
    "emp_df=pd.read_csv('employee_survey_data.csv')\n",
    "emp_df.head()\n",
    "#emp_df.shape"
   ]
  },
  {
   "cell_type": "code",
   "execution_count": null,
   "metadata": {},
   "outputs": [],
   "source": [
    "gen_df=pd.read_csv('general_data.csv')\n",
    "gen_df.head()\n",
    "#gen_df.shape"
   ]
  },
  {
   "cell_type": "code",
   "execution_count": null,
   "metadata": {},
   "outputs": [],
   "source": [
    "man_df=pd.read_csv('manager_survey_data.csv')\n",
    "man_df.head()"
   ]
  },
  {
   "cell_type": "code",
   "execution_count": null,
   "metadata": {},
   "outputs": [],
   "source": [
    "gen_df=gen_df.merge(man_df,left_on='EmployeeID',right_on='EmployeeID',how='inner')\n",
    "gen_df.head()"
   ]
  },
  {
   "cell_type": "code",
   "execution_count": null,
   "metadata": {},
   "outputs": [],
   "source": [
    "gen_df=gen_df.merge(emp_df,left_on='EmployeeID',right_on='EmployeeID',how='inner')\n",
    "gen_df.head()"
   ]
  },
  {
   "cell_type": "markdown",
   "metadata": {},
   "source": [
    "# DATA ANALYSING :"
   ]
  },
  {
   "cell_type": "code",
   "execution_count": null,
   "metadata": {
    "scrolled": true
   },
   "outputs": [],
   "source": [
    "gen_df.columns"
   ]
  },
  {
   "cell_type": "code",
   "execution_count": null,
   "metadata": {},
   "outputs": [],
   "source": [
    "gen_df.info()"
   ]
  },
  {
   "cell_type": "code",
   "execution_count": null,
   "metadata": {},
   "outputs": [],
   "source": [
    "gen_df.describe()"
   ]
  },
  {
   "cell_type": "code",
   "execution_count": null,
   "metadata": {},
   "outputs": [],
   "source": [
    "gen_df.isnull().sum()"
   ]
  },
  {
   "cell_type": "markdown",
   "metadata": {},
   "source": [
    "### DEALING WITH NULL VALUES :"
   ]
  },
  {
   "cell_type": "code",
   "execution_count": null,
   "metadata": {},
   "outputs": [],
   "source": [
    "gen_df['EnvironmentSatisfaction'].nunique()"
   ]
  },
  {
   "cell_type": "code",
   "execution_count": null,
   "metadata": {},
   "outputs": [],
   "source": [
    "gen_df.EnvironmentSatisfaction.value_counts()"
   ]
  },
  {
   "cell_type": "code",
   "execution_count": null,
   "metadata": {},
   "outputs": [],
   "source": [
    "gen_df['EnvironmentSatisfaction']=gen_df['EnvironmentSatisfaction'].fillna(value=3,limit=13)"
   ]
  },
  {
   "cell_type": "code",
   "execution_count": null,
   "metadata": {},
   "outputs": [],
   "source": [
    "gen_df.EnvironmentSatisfaction.value_counts()"
   ]
  },
  {
   "cell_type": "code",
   "execution_count": null,
   "metadata": {},
   "outputs": [],
   "source": [
    "gen_df['EnvironmentSatisfaction']=gen_df['EnvironmentSatisfaction'].fillna(value=4)"
   ]
  },
  {
   "cell_type": "code",
   "execution_count": null,
   "metadata": {},
   "outputs": [],
   "source": [
    "gen_df.EnvironmentSatisfaction.value_counts()"
   ]
  },
  {
   "cell_type": "code",
   "execution_count": null,
   "metadata": {},
   "outputs": [],
   "source": [
    "gen_df.isnull().sum()"
   ]
  },
  {
   "cell_type": "code",
   "execution_count": null,
   "metadata": {},
   "outputs": [],
   "source": [
    "gen_df['NumCompaniesWorked'].value_counts()"
   ]
  },
  {
   "cell_type": "code",
   "execution_count": null,
   "metadata": {},
   "outputs": [],
   "source": [
    "gen_df['NumCompaniesWorked']=gen_df['NumCompaniesWorked'].fillna(value=1)"
   ]
  },
  {
   "cell_type": "code",
   "execution_count": null,
   "metadata": {},
   "outputs": [],
   "source": [
    "gen_df['JobSatisfaction'].value_counts()"
   ]
  },
  {
   "cell_type": "code",
   "execution_count": null,
   "metadata": {},
   "outputs": [],
   "source": [
    "gen_df['JobSatisfaction']=gen_df['JobSatisfaction'].fillna(value=4,limit=12)"
   ]
  },
  {
   "cell_type": "code",
   "execution_count": null,
   "metadata": {},
   "outputs": [],
   "source": [
    "gen_df['JobSatisfaction']=gen_df['JobSatisfaction'].fillna(value=3)"
   ]
  },
  {
   "cell_type": "code",
   "execution_count": null,
   "metadata": {},
   "outputs": [],
   "source": [
    "gen_df['WorkLifeBalance'].value_counts()"
   ]
  },
  {
   "cell_type": "code",
   "execution_count": null,
   "metadata": {},
   "outputs": [],
   "source": [
    "gen_df['WorkLifeBalance']=gen_df['WorkLifeBalance'].fillna(value=3)"
   ]
  },
  {
   "cell_type": "code",
   "execution_count": null,
   "metadata": {},
   "outputs": [],
   "source": [
    "gen_df['TotalWorkingYears'].value_counts().head()"
   ]
  },
  {
   "cell_type": "code",
   "execution_count": null,
   "metadata": {},
   "outputs": [],
   "source": [
    "gen_df['TotalWorkingYears']=gen_df['TotalWorkingYears'].fillna(10)"
   ]
  },
  {
   "cell_type": "code",
   "execution_count": null,
   "metadata": {},
   "outputs": [],
   "source": [
    "gen_df.isnull().sum()"
   ]
  },
  {
   "cell_type": "code",
   "execution_count": null,
   "metadata": {},
   "outputs": [],
   "source": [
    "Attrition=pd.get_dummies(gen_df['Attrition'],drop_first=True)"
   ]
  },
  {
   "cell_type": "code",
   "execution_count": null,
   "metadata": {},
   "outputs": [],
   "source": [
    "Attrition.Yes.value_counts()"
   ]
  },
  {
   "cell_type": "code",
   "execution_count": null,
   "metadata": {
    "scrolled": true
   },
   "outputs": [],
   "source": [
    "gen_df=pd.concat([gen_df,Attrition],axis=1)\n",
    "gen_df.head()"
   ]
  },
  {
   "cell_type": "code",
   "execution_count": null,
   "metadata": {},
   "outputs": [],
   "source": [
    "gen_df=gen_df.drop(columns=['Attrition'])"
   ]
  },
  {
   "cell_type": "code",
   "execution_count": null,
   "metadata": {},
   "outputs": [],
   "source": [
    "gen_df=gen_df.rename(columns={'Yes': 'Attrition'})"
   ]
  },
  {
   "cell_type": "code",
   "execution_count": null,
   "metadata": {},
   "outputs": [],
   "source": [
    "gen_df.head()"
   ]
  },
  {
   "cell_type": "markdown",
   "metadata": {},
   "source": [
    "#  "
   ]
  },
  {
   "cell_type": "markdown",
   "metadata": {},
   "source": [
    "#  "
   ]
  },
  {
   "cell_type": "markdown",
   "metadata": {},
   "source": [
    "# DATA VISUALIZATION :"
   ]
  },
  {
   "cell_type": "code",
   "execution_count": null,
   "metadata": {},
   "outputs": [],
   "source": [
    "import seaborn as sns\n",
    "import matplotlib.pyplot as plt\n",
    "%matplotlib inline\n",
    "sns.set_style('whitegrid')"
   ]
  },
  {
   "cell_type": "code",
   "execution_count": null,
   "metadata": {},
   "outputs": [],
   "source": [
    "plt.figure(figsize=(12,6))\n",
    "plt.title('Age vs Attrition',fontsize=16)\n",
    "sns.lineplot(x='Age',y='Attrition',data=gen_df,color='red')\n",
    "# Attrition can be seen more in age groups between 18-25 "
   ]
  },
  {
   "cell_type": "code",
   "execution_count": null,
   "metadata": {},
   "outputs": [],
   "source": [
    "plt.figure(figsize=(9,5))\n",
    "sns.jointplot(x='Age',y='MonthlyIncome',data=gen_df,kind='hex')"
   ]
  },
  {
   "cell_type": "code",
   "execution_count": null,
   "metadata": {
    "scrolled": false
   },
   "outputs": [],
   "source": [
    "plt.figure(figsize=(9,5))\n",
    "plt.title('Marital Status vs Count (hue=Attrition)',fontsize=16)\n",
    "sns.countplot(x='MaritalStatus',hue='Attrition',data=gen_df,palette='viridis')\n",
    "ratio=(gen_df[gen_df['Attrition']==1]['MaritalStatus'].value_counts()/gen_df.MaritalStatus.value_counts())*100\n",
    "print(\"Ratio of workers most likely to resign on the basis of Marital Status: \\n\",round(ratio,2))"
   ]
  },
  {
   "cell_type": "code",
   "execution_count": null,
   "metadata": {
    "scrolled": false
   },
   "outputs": [],
   "source": [
    "plt.figure(figsize=(9,5))\n",
    "plt.title('Marital Status vs Monthly Income',fontsize=16)\n",
    "sns.barplot(x='MaritalStatus',y='MonthlyIncome',data=gen_df,palette='inferno')"
   ]
  },
  {
   "cell_type": "code",
   "execution_count": null,
   "metadata": {
    "scrolled": false
   },
   "outputs": [],
   "source": [
    "plt.figure(figsize=(9,5))\n",
    "plt.title('Attrition based on Gender',fontsize=16)\n",
    "sns.countplot(x='Attrition',hue='Gender',data=gen_df,palette='twilight')\n",
    "ratio=(gen_df[gen_df['Attrition']==1]['Gender'].value_counts()/gen_df.Gender.value_counts())*100\n",
    "print(\"Ratio of workers most likely to resign on the basis of Gender: \\n\",round(ratio,2))"
   ]
  },
  {
   "cell_type": "code",
   "execution_count": null,
   "metadata": {
    "scrolled": false
   },
   "outputs": [],
   "source": [
    "plt.figure(figsize=(9,5))\n",
    "plt.title('Attrition based on Education Fields',fontsize=16)\n",
    "sns.countplot(x='Attrition',hue='EducationField',data=gen_df,palette='RdYlGn')\n",
    "ratio=(gen_df[gen_df['Attrition']==1]['EducationField'].value_counts()/gen_df.EducationField.value_counts())*100\n",
    "print(\"Ratio of workers most likely to resign on the basis of Education Field: \\n\",round(ratio,2))"
   ]
  },
  {
   "cell_type": "code",
   "execution_count": null,
   "metadata": {},
   "outputs": [],
   "source": [
    "gen_df.EmployeeCount.value_counts()"
   ]
  },
  {
   "cell_type": "code",
   "execution_count": null,
   "metadata": {
    "scrolled": false
   },
   "outputs": [],
   "source": [
    "plt.figure(figsize=(9,5))\n",
    "plt.title('Attrition based on Job Level',fontsize=16)\n",
    "sns.countplot(x='Attrition',hue='JobLevel',data=gen_df,palette='spring')\n",
    "ratio=(gen_df[gen_df['Attrition']==1]['JobLevel'].value_counts()/gen_df.JobLevel.value_counts())*100\n",
    "print(\"Ratio of workers most likely to resign on the basis of Job Level: \\n\",round(ratio,2))"
   ]
  },
  {
   "cell_type": "code",
   "execution_count": null,
   "metadata": {},
   "outputs": [],
   "source": [
    "plt.figure(figsize=(12,6))\n",
    "plt.title('Job Level vs Monthly Income',fontsize=16)\n",
    "sns.barplot(x='JobLevel',y='MonthlyIncome',data=gen_df,palette='cool')"
   ]
  },
  {
   "cell_type": "code",
   "execution_count": null,
   "metadata": {},
   "outputs": [],
   "source": [
    "plt.figure(figsize=(12,6))\n",
    "sns.countplot(x='Attrition',hue='JobRole',data=gen_df)\n",
    "ratio=(gen_df[gen_df['Attrition']==1]['JobRole'].value_counts()/gen_df.JobRole.value_counts())*100\n",
    "print(\"Ratio of workers most likely to resign on the basis of JobRole: \\n\",round(ratio,2))"
   ]
  },
  {
   "cell_type": "code",
   "execution_count": null,
   "metadata": {},
   "outputs": [],
   "source": [
    "plt.figure(figsize=(12,6))\n",
    "sns.countplot(x='YearsAtCompany',hue='Attrition',data=gen_df,palette='twilight')"
   ]
  },
  {
   "cell_type": "code",
   "execution_count": null,
   "metadata": {
    "scrolled": false
   },
   "outputs": [],
   "source": [
    "plt.figure(figsize=(12,6))\n",
    "sns.countplot(x='YearsSinceLastPromotion',hue='Attrition',data=gen_df,palette='RdYlGn')"
   ]
  },
  {
   "cell_type": "code",
   "execution_count": null,
   "metadata": {
    "scrolled": true
   },
   "outputs": [],
   "source": [
    "gen_df.TrainingTimesLastYear.value_counts()"
   ]
  },
  {
   "cell_type": "code",
   "execution_count": null,
   "metadata": {
    "scrolled": false
   },
   "outputs": [],
   "source": [
    "plt.figure(figsize=(12,6))\n",
    "sns.countplot(x='TrainingTimesLastYear',hue='Attrition',data=gen_df)\n",
    "ratio=(gen_df[gen_df['Attrition']==1]['TrainingTimesLastYear'].value_counts()/gen_df.TrainingTimesLastYear.value_counts())*100\n",
    "print(\"Ratio of workers most likely to resign on the basis of TrainingTimesLastYear: \\n\",round(ratio,2))"
   ]
  },
  {
   "cell_type": "code",
   "execution_count": null,
   "metadata": {},
   "outputs": [],
   "source": [
    "plt.figure(figsize=(12,6))\n",
    "sns.countplot(x='YearsWithCurrManager',hue='Attrition',data=gen_df,palette='viridis')"
   ]
  },
  {
   "cell_type": "code",
   "execution_count": null,
   "metadata": {},
   "outputs": [],
   "source": [
    "gen_df.JobInvolvement.value_counts()"
   ]
  },
  {
   "cell_type": "code",
   "execution_count": null,
   "metadata": {},
   "outputs": [],
   "source": [
    "plt.figure(figsize=(12,6))\n",
    "sns.countplot(x='JobInvolvement',hue='Attrition',data=gen_df,palette='hot')"
   ]
  },
  {
   "cell_type": "code",
   "execution_count": null,
   "metadata": {},
   "outputs": [],
   "source": [
    "gen_df.PerformanceRating.value_counts()"
   ]
  },
  {
   "cell_type": "code",
   "execution_count": null,
   "metadata": {
    "scrolled": true
   },
   "outputs": [],
   "source": [
    "sns.countplot(x='PerformanceRating',hue='Attrition',data=gen_df,palette='winter')\n",
    "ratio=(gen_df[gen_df['Attrition']==1]['PerformanceRating'].value_counts()/gen_df.PerformanceRating.value_counts())*100\n",
    "print(\"Ratio of workers most likely to resign on the basis of Performance Rating: \\n\",round(ratio,2))"
   ]
  },
  {
   "cell_type": "code",
   "execution_count": null,
   "metadata": {
    "scrolled": false
   },
   "outputs": [],
   "source": [
    "sns.countplot(x='Education',hue='Attrition',data=gen_df,palette='summer')\n",
    "ratio=(gen_df[gen_df['Attrition']==1]['Education'].value_counts()/gen_df.Education.value_counts())*100\n",
    "print(\"Ratio of workers most likely to resign on the basis of Education: \\n\",round(ratio,2))"
   ]
  },
  {
   "cell_type": "code",
   "execution_count": null,
   "metadata": {},
   "outputs": [],
   "source": [
    "plt.figure(figsize=(7,5))\n",
    "sns.countplot(x='NumCompaniesWorked',hue='Attrition',data=gen_df)\n",
    "ratio=(gen_df[gen_df['Attrition']==1]['NumCompaniesWorked'].value_counts()/gen_df.NumCompaniesWorked.value_counts())*100\n",
    "print(\"Ratio of workers most likely to resign on the basis of NUMBER OF COMPANIES WORKED: \\n\",round(ratio,2))"
   ]
  },
  {
   "cell_type": "code",
   "execution_count": null,
   "metadata": {
    "scrolled": false
   },
   "outputs": [],
   "source": [
    "sns.jointplot(x='NumCompaniesWorked',y='Age',data=gen_df,hue='Attrition',kind='kde',shade=True,palette='autumn')"
   ]
  },
  {
   "cell_type": "code",
   "execution_count": null,
   "metadata": {},
   "outputs": [],
   "source": [
    "sns.jointplot(x='Age',y='PercentSalaryHike',data=gen_df,kind='kde',shade=True)"
   ]
  },
  {
   "cell_type": "code",
   "execution_count": null,
   "metadata": {
    "scrolled": false
   },
   "outputs": [],
   "source": [
    "plt.figure(figsize=(10,6))\n",
    "sns.countplot(x='PercentSalaryHike',hue='Attrition',data=gen_df,palette='autumn')\n",
    "ratio=(gen_df[gen_df['Attrition']==1]['PercentSalaryHike'].value_counts()/gen_df.PercentSalaryHike.value_counts())*100\n",
    "print(\"Ratio of workers most likely to resign on the basis of PercentSalaryHike: \\n\",round(ratio,2))"
   ]
  },
  {
   "cell_type": "code",
   "execution_count": null,
   "metadata": {},
   "outputs": [],
   "source": [
    "plt.figure(figsize=(20,10))\n",
    "plt.title('Age vs Percent Salary Hike',fontsize=20)\n",
    "sns.barplot(y='PercentSalaryHike',x='Age',data=gen_df,palette='RdYlBu')"
   ]
  },
  {
   "cell_type": "code",
   "execution_count": null,
   "metadata": {},
   "outputs": [],
   "source": [
    "plt.figure(figsize=(9,6))\n",
    "sns.countplot(x='WorkLifeBalance',data=gen_df,hue='Attrition')\n",
    "ratio=(gen_df[gen_df['Attrition']==1]['WorkLifeBalance'].value_counts()/gen_df.WorkLifeBalance.value_counts())*100\n",
    "print(\"Ratio of workers most likely to resign on the basis of WorkLifeBalance: \\n\",round(ratio,2))"
   ]
  },
  {
   "cell_type": "code",
   "execution_count": null,
   "metadata": {
    "scrolled": false
   },
   "outputs": [],
   "source": [
    "gen_df['BusinessTravel'].value_counts()"
   ]
  },
  {
   "cell_type": "code",
   "execution_count": null,
   "metadata": {},
   "outputs": [],
   "source": [
    "plt.figure(figsize=(9,5))\n",
    "sns.countplot(x='BusinessTravel',hue='Attrition',data=gen_df,palette='Wistia')\n",
    "ratio=(gen_df[gen_df['Attrition']==1]['BusinessTravel'].value_counts()/gen_df.BusinessTravel.value_counts())*100\n",
    "print(\"Ratio of workers most likely to resign on the basis of Business Travel: \\n\",round(ratio,2))"
   ]
  },
  {
   "cell_type": "code",
   "execution_count": null,
   "metadata": {
    "scrolled": false
   },
   "outputs": [],
   "source": [
    "plt.figure(figsize=(12,6))\n",
    "#plt.tight_layout()\n",
    "sns.catplot(x='Department',y='MonthlyIncome',data=gen_df,hue='Attrition',kind='bar',palette='twilight')\n",
    "ratio=(gen_df[gen_df['Attrition']==1]['Department'].value_counts()/gen_df.Department.value_counts())*100\n",
    "print(\"Ratio of workers most likely to resign on the basis of Department: \\n\",round(ratio,2))\n",
    "#sns.countplot(x='PerformanceRating',hue='Attrition',data=gen_df)"
   ]
  },
  {
   "cell_type": "code",
   "execution_count": null,
   "metadata": {},
   "outputs": [],
   "source": [
    "plt.figure(figsize=(9,5))\n",
    "plt.title('Attrition vs Monthly Income',fontsize=16)\n",
    "sns.barplot(x='Attrition',y='MonthlyIncome',data=gen_df,palette='viridis')"
   ]
  },
  {
   "cell_type": "code",
   "execution_count": null,
   "metadata": {
    "scrolled": true
   },
   "outputs": [],
   "source": [
    "est=gen_df.groupby('Attrition',as_index=False).mean()\n",
    "est.head()"
   ]
  },
  {
   "cell_type": "markdown",
   "metadata": {},
   "source": [
    "#  "
   ]
  },
  {
   "cell_type": "markdown",
   "metadata": {},
   "source": [
    "#  "
   ]
  },
  {
   "cell_type": "markdown",
   "metadata": {},
   "source": [
    "## CREATING DUMMY VARIABLES :"
   ]
  },
  {
   "cell_type": "code",
   "execution_count": null,
   "metadata": {},
   "outputs": [],
   "source": [
    "gen_df=gen_df.drop(columns=['EmployeeID'])"
   ]
  },
  {
   "cell_type": "code",
   "execution_count": null,
   "metadata": {},
   "outputs": [],
   "source": [
    "gen_df.info()"
   ]
  },
  {
   "cell_type": "code",
   "execution_count": null,
   "metadata": {},
   "outputs": [],
   "source": [
    "gen_df.BusinessTravel.value_counts()"
   ]
  },
  {
   "cell_type": "code",
   "execution_count": null,
   "metadata": {},
   "outputs": [],
   "source": [
    "BusinessTravel=pd.get_dummies(gen_df['BusinessTravel'],drop_first=True)"
   ]
  },
  {
   "cell_type": "code",
   "execution_count": null,
   "metadata": {},
   "outputs": [],
   "source": [
    "BusinessTravel.head()"
   ]
  },
  {
   "cell_type": "code",
   "execution_count": null,
   "metadata": {
    "scrolled": true
   },
   "outputs": [],
   "source": [
    "Department=pd.get_dummies(gen_df['Department'],drop_first=True)\n",
    "Department.head()"
   ]
  },
  {
   "cell_type": "code",
   "execution_count": null,
   "metadata": {},
   "outputs": [],
   "source": [
    "gen_df.Department.value_counts()"
   ]
  },
  {
   "cell_type": "code",
   "execution_count": null,
   "metadata": {},
   "outputs": [],
   "source": [
    "gen_df.EducationField.value_counts()"
   ]
  },
  {
   "cell_type": "code",
   "execution_count": null,
   "metadata": {},
   "outputs": [],
   "source": [
    "EducationField=pd.get_dummies(gen_df['EducationField'],drop_first=True)\n",
    "EducationField.head()"
   ]
  },
  {
   "cell_type": "code",
   "execution_count": null,
   "metadata": {},
   "outputs": [],
   "source": [
    "Gender=pd.get_dummies(gen_df['Gender'],drop_first=True)\n",
    "Gender.head()"
   ]
  },
  {
   "cell_type": "code",
   "execution_count": null,
   "metadata": {},
   "outputs": [],
   "source": [
    "JobRole=pd.get_dummies(gen_df['JobRole'],drop_first=False)\n",
    "JobRole.head()"
   ]
  },
  {
   "cell_type": "code",
   "execution_count": null,
   "metadata": {},
   "outputs": [],
   "source": [
    "MaritalStatus=pd.get_dummies(gen_df['MaritalStatus'],drop_first=True)\n",
    "MaritalStatus.head()"
   ]
  },
  {
   "cell_type": "code",
   "execution_count": null,
   "metadata": {},
   "outputs": [],
   "source": [
    "gen_df.MaritalStatus.value_counts()"
   ]
  },
  {
   "cell_type": "code",
   "execution_count": null,
   "metadata": {},
   "outputs": [],
   "source": [
    "Over18=pd.get_dummies(gen_df['Over18'],drop_first=False)\n",
    "Over18.head()"
   ]
  },
  {
   "cell_type": "code",
   "execution_count": null,
   "metadata": {},
   "outputs": [],
   "source": [
    "gen_df.Over18.value_counts()"
   ]
  },
  {
   "cell_type": "code",
   "execution_count": null,
   "metadata": {},
   "outputs": [],
   "source": [
    "gen_df=gen_df.drop(columns=['BusinessTravel','Department','EducationField','Gender','JobRole','MaritalStatus','Over18'])"
   ]
  },
  {
   "cell_type": "code",
   "execution_count": null,
   "metadata": {},
   "outputs": [],
   "source": [
    "gen_df=pd.concat([gen_df,BusinessTravel],axis=1)"
   ]
  },
  {
   "cell_type": "code",
   "execution_count": null,
   "metadata": {},
   "outputs": [],
   "source": [
    "gen_df=pd.concat([gen_df,Department],axis=1)"
   ]
  },
  {
   "cell_type": "code",
   "execution_count": null,
   "metadata": {},
   "outputs": [],
   "source": [
    "gen_df=pd.concat([gen_df,EducationField],axis=1)"
   ]
  },
  {
   "cell_type": "code",
   "execution_count": null,
   "metadata": {},
   "outputs": [],
   "source": [
    "gen_df=pd.concat([gen_df,Gender],axis=1)"
   ]
  },
  {
   "cell_type": "code",
   "execution_count": null,
   "metadata": {
    "scrolled": true
   },
   "outputs": [],
   "source": [
    "gen_df=pd.concat([gen_df,JobRole],axis=1)"
   ]
  },
  {
   "cell_type": "code",
   "execution_count": null,
   "metadata": {},
   "outputs": [],
   "source": [
    "gen_df=pd.concat([gen_df,MaritalStatus],axis=1)\n",
    "gen_df.head()"
   ]
  },
  {
   "cell_type": "markdown",
   "metadata": {},
   "source": [
    "#  "
   ]
  },
  {
   "cell_type": "markdown",
   "metadata": {},
   "source": [
    "# CONCLUSIONS :"
   ]
  },
  {
   "cell_type": "markdown",
   "metadata": {},
   "source": [
    "\n",
    " * Employees between the age group of 17 - 25 years have a high chance of quitting their jobs.\n",
    " * New employees generally leave their job after completing 1 year at the company.\n",
    " * If Employees' age is less than 28 but number of companies he has worked in is more than 2 then attrition rate in less.\n",
    " * To prevent Employees in the age group of 17 - 25 years from leaving the company, their percent salary hike can be increased.\n",
    " * After an Employee has worked for more than 5 years in the company their percentage of resigning decreases.\n",
    " * The company should focus more on experienced and well trained employees as their chances of resigning are very low.\n",
    " * Rate of resigning is seen less in employees who are experienced and have worked for more than 4 companies before.\n",
    " * Job level 2 has higher attrition rate than others. Increasing their monthly salary may decrease the attrition rate.\n",
    " * Employees with Single Marital Status have higher attrition rate than married or divorced ones. Single Marital Status      Employees have less monthly income than others.\n",
    " * Monthly income of employees is higher for those in the age group of 28 - 40 years.\n",
    " * Gender has no role to play in deciding the attrition rate. Both male and female have approx. equal rate of attrition, that is, 15-16 %.\n",
    " * Monthly income does not play a key role in deciding overall attrition rate.\n",
    " * Employees of Education field - Human Resources - have about 41% chance of resigning.\n",
    " * Employees with low training have more attrition rate.\n",
    " * Employees having low Work Life Balance are more likely to resign.\n",
    " * Employees who travel frequently resign more than those who travel rarely or who do not travel at all.\n",
    " * Department of Human Resources need immediate attention as approx 30% workers are likely to resign."
   ]
  },
  {
   "cell_type": "markdown",
   "metadata": {},
   "source": [
    "#### Department of Human Resources need immediate attention to decrease attrition rate of the company."
   ]
  },
  {
   "cell_type": "markdown",
   "metadata": {},
   "source": [
    "# LOGISTIC REGRESSION : "
   ]
  },
  {
   "cell_type": "code",
   "execution_count": null,
   "metadata": {
    "scrolled": true
   },
   "outputs": [],
   "source": [
    "balance = (gen_df.Attrition.value_counts()[1]/gen_df.Attrition.shape[0])*100\n",
    "print('Data Attrition Yes/No Percentage:\\n','--'*20,'\\n', balance,'%')"
   ]
  },
  {
   "cell_type": "code",
   "execution_count": null,
   "metadata": {},
   "outputs": [],
   "source": [
    "from sklearn.model_selection import train_test_split\n",
    "from sklearn import metrics\n",
    "from sklearn.linear_model import LogisticRegression\n",
    "from sklearn.preprocessing import StandardScaler\n",
    "\n",
    "X = gen_df.drop(columns=['Attrition','EmployeeCount'], axis = 1) #feature matrix\n",
    "y = gen_df.Attrition # target vector\n",
    "\n",
    "scaler = StandardScaler()\n",
    "scaler.fit(X)\n",
    "X_std = scaler.transform(X)\n",
    "\n",
    "X_train, X_test, y_train, y_test =  train_test_split(X_std, y, test_size=0.35, random_state=111)"
   ]
  },
  {
   "cell_type": "code",
   "execution_count": null,
   "metadata": {},
   "outputs": [],
   "source": [
    "log=LogisticRegression()\n",
    "\n",
    "log.fit(X_train, y_train)\n",
    "\n",
    "# predictions for test set\n",
    "y_preds = log.predict(X_test)\n",
    "\n",
    "test_accuracy = metrics.accuracy_score(y_test, y_preds)\n",
    "test_recall = metrics.recall_score(y_test, y_preds)\n",
    "print('Test Accuracy:', test_accuracy)\n",
    "print('Test Sensitivity:', test_recall)"
   ]
  },
  {
   "cell_type": "code",
   "execution_count": null,
   "metadata": {},
   "outputs": [],
   "source": [
    "from sklearn.metrics import confusion_matrix,classification_report"
   ]
  },
  {
   "cell_type": "code",
   "execution_count": null,
   "metadata": {},
   "outputs": [],
   "source": [
    "print(confusion_matrix(y_test,y_preds))"
   ]
  },
  {
   "cell_type": "code",
   "execution_count": null,
   "metadata": {},
   "outputs": [],
   "source": [
    "sns.heatmap(confusion_matrix(y_test,y_preds))"
   ]
  },
  {
   "cell_type": "code",
   "execution_count": null,
   "metadata": {},
   "outputs": [],
   "source": [
    "print(classification_report(y_test,y_preds))"
   ]
  }
 ],
 "metadata": {
  "kernelspec": {
   "display_name": "Python 3",
   "language": "python",
   "name": "python3"
  },
  "language_info": {
   "codemirror_mode": {
    "name": "ipython",
    "version": 3
   },
   "file_extension": ".py",
   "mimetype": "text/x-python",
   "name": "python",
   "nbconvert_exporter": "python",
   "pygments_lexer": "ipython3",
   "version": "3.8.8"
  }
 },
 "nbformat": 4,
 "nbformat_minor": 4
}
